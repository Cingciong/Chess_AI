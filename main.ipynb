{
 "cells": [
  {
   "metadata": {
    "ExecuteTime": {
     "end_time": "2025-02-11T11:20:51.558580Z",
     "start_time": "2025-02-11T11:20:51.556093Z"
    }
   },
   "cell_type": "code",
   "source": [
    "colors = {\n",
    "    'white': 0,\n",
    "    'black': 1,\n",
    "}\n",
    "figures = {\n",
    "    'Pawn': 1,\n",
    "    'Rook': 2,\n",
    "    'Knight': 3,\n",
    "    'Bishop': 4,\n",
    "    'Queen': 5,\n",
    "    'King': 6,\n",
    "}\n",
    "reverse_figures = {v: k[0] for k, v in figures.items()}"
   ],
   "id": "8667b84c98ba7768",
   "outputs": [],
   "execution_count": 724
  },
  {
   "metadata": {
    "ExecuteTime": {
     "end_time": "2025-02-11T11:20:51.571496Z",
     "start_time": "2025-02-11T11:20:51.568977Z"
    }
   },
   "cell_type": "code",
   "source": [
    "class Piece:\n",
    "    def __init__(self, color, position):\n",
    "        self.color = color\n",
    "        self.position = position\n",
    "        self.eliminated = False\n",
    "        self.destructable = True\n",
    "\n",
    "    def eliminate(self):\n",
    "        self.eliminated = True"
   ],
   "id": "2c51fc8d9ca51b4",
   "outputs": [],
   "execution_count": 725
  },
  {
   "metadata": {
    "ExecuteTime": {
     "end_time": "2025-02-11T11:20:51.577423Z",
     "start_time": "2025-02-11T11:20:51.572500Z"
    }
   },
   "cell_type": "code",
   "source": [
    "class Pawn(Piece):\n",
    "    def __init__(self, color, position):\n",
    "        super().__init__(color, position)\n",
    "        self.first_move = True\n",
    "        self.figure = figures['Pawn']\n",
    "\n",
    "    def valid_moves(self, board_instance):\n",
    "        moves = []\n",
    "        row, col = self.position\n",
    "\n",
    "        if self.color == colors['white']:\n",
    "            if row == 1 and not board_instance.check_for_friendly((row + 2, col), self.color):\n",
    "                moves.append((row + 2, col))\n",
    "            if row + 1 < 8 and not board_instance.check_for_friendly((row + 1, col), self.color):\n",
    "                moves.append((row + 1, col))\n",
    "            dc = [[1, 1], [1, -1]]\n",
    "            for i in range(2):\n",
    "                new_row, new_col = row + dc[i][0], col + dc[i][1]\n",
    "                if 0 <= new_row < 8 and 0 <= new_col < 8 and not board_instance.check_for_friendly((new_row, new_col), self.color):\n",
    "                    moves.append((new_row, new_col))\n",
    "\n",
    "        if self.color == colors['black']:\n",
    "            if row == 6 and not board_instance.check_for_friendly((row - 2, col), self.color):\n",
    "                moves.append((row - 2, col))\n",
    "            if row - 1 >= 0 and not board_instance.check_for_friendly((row - 1, col), self.color):\n",
    "                moves.append((row - 1, col))\n",
    "            dc = [[-1, 1], [-1, -1]]\n",
    "            for i in range(2):\n",
    "                new_row, new_col = row + dc[i][0], col + dc[i][1]\n",
    "                if 0 <= new_row < 8 and 0 <= new_col < 8 and not board_instance.check_for_friendly((new_row, new_col), self.color):\n",
    "                    moves.append((new_row, new_col))\n",
    "\n",
    "        return moves"
   ],
   "id": "8e3032234fc2abf5",
   "outputs": [],
   "execution_count": 726
  },
  {
   "metadata": {
    "ExecuteTime": {
     "end_time": "2025-02-11T11:20:51.587866Z",
     "start_time": "2025-02-11T11:20:51.584575Z"
    }
   },
   "cell_type": "code",
   "source": [
    "class Rook(Piece):\n",
    "    def __init__(self, color, position):\n",
    "        super().__init__(color, position)\n",
    "        self.first_move = True\n",
    "        self.figure = figures['Rook']\n",
    "\n",
    "    def valid_moves(self, board_instance):\n",
    "        moves = []\n",
    "        row, col = self.position\n",
    "\n",
    "        directions = [[1, 0], [-1, 0], [0, 1], [0, -1]]\n",
    "\n",
    "        for dr,dc in directions:\n",
    "            r,c = row +dr , col + dc\n",
    "            while 0 <= r < 8 and 0 <= c < 8:\n",
    "\n",
    "                if board_instance.check_for_friendly((r,c), self.color):\n",
    "                    break\n",
    "                moves.append((r,c))\n",
    "                if board_instance.check_for_enemy((r,c), self.color):\n",
    "                    break\n",
    "                r += dr\n",
    "                c += dc\n",
    "        return moves\n"
   ],
   "id": "7b805473710c7473",
   "outputs": [],
   "execution_count": 727
  },
  {
   "metadata": {
    "ExecuteTime": {
     "end_time": "2025-02-11T11:20:51.594873Z",
     "start_time": "2025-02-11T11:20:51.591694Z"
    }
   },
   "cell_type": "code",
   "source": [
    "class Knight(Piece):\n",
    "    def __init__(self, color, position):\n",
    "        super().__init__(color, position)\n",
    "        self.figure = figures['Knight']\n",
    "\n",
    "    def valid_moves(self, board_instance):\n",
    "        moves = []\n",
    "        row, col = self.position\n",
    "\n",
    "        dc = [[1, 2], [1, -2], [-1, 2], [-1, -2], [2, 1], [2, -1], [-2, 1], [-2, -1]]\n",
    "\n",
    "        for i in range(8):\n",
    "            new_row, new_col = row + dc[i][0], col + dc[i][1]\n",
    "            if 0 <= new_row < 8 and 0 <= new_col < 8 and not board_instance.check_for_friendly((new_row, new_col), self.color):\n",
    "                moves.append((new_row, new_col))\n",
    "\n",
    "        return moves"
   ],
   "id": "5111314642786202",
   "outputs": [],
   "execution_count": 728
  },
  {
   "metadata": {
    "ExecuteTime": {
     "end_time": "2025-02-11T11:20:51.601795Z",
     "start_time": "2025-02-11T11:20:51.598565Z"
    }
   },
   "cell_type": "code",
   "source": [
    "class Bishop(Piece):\n",
    "    def __init__(self, color, position):\n",
    "        super().__init__(color, position)\n",
    "        self.figure = figures['Bishop']\n",
    "\n",
    "    def valid_moves(self, board_instance):\n",
    "        moves = []\n",
    "        row, col = self.position\n",
    "\n",
    "        directions = [[1, 1], [1, -1], [-1, 1], [-1, -1]]\n",
    "\n",
    "        for dr, dc in directions:\n",
    "            r, c = row + dr, col + dc\n",
    "            while 0 <= r < 8 and 0 <= c < 8:\n",
    "                if board_instance.check_for_friendly((r, c), self.color):\n",
    "                    break\n",
    "                moves.append((r, c))\n",
    "                if board_instance.check_for_enemy((r, c), self.color):\n",
    "                    break\n",
    "                r += dr\n",
    "                c += dc\n",
    "\n",
    "        return moves"
   ],
   "id": "f221e4e0798ae22c",
   "outputs": [],
   "execution_count": 729
  },
  {
   "metadata": {
    "ExecuteTime": {
     "end_time": "2025-02-11T11:20:51.609388Z",
     "start_time": "2025-02-11T11:20:51.605858Z"
    }
   },
   "cell_type": "code",
   "source": [
    "class Queen(Piece):\n",
    "    def __init__(self, color, position):\n",
    "        super().__init__(color, position)\n",
    "        self.figure = figures['Queen']\n",
    "\n",
    "    def valid_moves(self, board_instance):\n",
    "        moves = []\n",
    "        row, col = self.position\n",
    "\n",
    "        directions = [[1, 0], [-1, 0], [0, 1], [0, -1], [1, 1], [1, -1], [-1, 1], [-1, -1]]\n",
    "\n",
    "        for dr, dc in directions:\n",
    "            r, c = row + dr, col + dc\n",
    "            while 0 <= r < 8 and 0 <= c < 8:\n",
    "                if board_instance.check_for_friendly((r, c), self.color):\n",
    "                    break\n",
    "                moves.append((r, c))\n",
    "                if board_instance.check_for_enemy((r, c), self.color):\n",
    "                    break\n",
    "                r += dr\n",
    "                c += dc\n",
    "\n",
    "        return moves"
   ],
   "id": "8c9ee5fcf707c371",
   "outputs": [],
   "execution_count": 730
  },
  {
   "metadata": {
    "ExecuteTime": {
     "end_time": "2025-02-11T11:20:51.616323Z",
     "start_time": "2025-02-11T11:20:51.612984Z"
    }
   },
   "cell_type": "code",
   "source": [
    "class King(Piece):\n",
    "    def __init__(self, color, position):\n",
    "        super().__init__(color, position)\n",
    "        self.figure = figures['King']\n",
    "        self.destructable = False\n",
    "\n",
    "    def valid_moves(self, board_instance):\n",
    "        moves = []\n",
    "        row, col = self.position\n",
    "\n",
    "        dc = [[1, 0], [-1, 0], [0, 1], [0, -1], [1, 1], [1, -1], [-1, 1], [-1, -1]]\n",
    "\n",
    "        for i in range(8):\n",
    "            new_row, new_col = row + dc[i][0], col + dc[i][1]\n",
    "            if 0 <= new_row < 8 and 0 <= new_col < 8 and not board_instance.check_for_friendly((new_row, new_col), self.color):\n",
    "                moves.append((new_row, new_col))\n",
    "\n",
    "        return moves"
   ],
   "id": "f2200d56291c041f",
   "outputs": [],
   "execution_count": 731
  },
  {
   "metadata": {
    "ExecuteTime": {
     "end_time": "2025-02-11T11:20:51.626245Z",
     "start_time": "2025-02-11T11:20:51.620055Z"
    }
   },
   "cell_type": "code",
   "source": [
    "class Board:\n",
    "    def __init__(self):\n",
    "        self.board = self.create_board()\n",
    "\n",
    "    def create_board(self):\n",
    "        return [[None for _ in range(8)] for _ in range(8)]\n",
    "\n",
    "    def populate_board(self):\n",
    "        # Place Pawns\n",
    "        for col in range(8):\n",
    "            self.board[1][col] = Pawn(colors['white'], (1, col))\n",
    "            self.board[6][col] = Pawn(colors['black'], (6, col))\n",
    "\n",
    "        # Place Rooks\n",
    "        self.board[0][0] = Rook(colors['white'], (0, 0))\n",
    "        self.board[0][7] = Rook(colors['white'], (0, 7))\n",
    "        self.board[7][0] = Rook(colors['black'], (7, 0))\n",
    "        self.board[7][7] = Rook(colors['black'], (7, 7))\n",
    "\n",
    "        # Place Knights\n",
    "        self.board[0][1] = Knight(colors['white'], (0, 1))\n",
    "        self.board[0][6] = Knight(colors['white'], (0, 6))\n",
    "        self.board[7][1] = Knight(colors['black'], (7, 1))\n",
    "        self.board[7][6] = Knight(colors['black'], (7, 6))\n",
    "\n",
    "        # Place Bishops\n",
    "        self.board[0][2] = Bishop(colors['white'], (0, 2))\n",
    "        self.board[0][5] = Bishop(colors['white'], (0, 5))\n",
    "        self.board[7][2] = Bishop(colors['black'], (7, 2))\n",
    "        self.board[7][5] = Bishop(colors['black'], (7, 5))\n",
    "\n",
    "        # Place Queens\n",
    "        self.board[0][3] = Queen(colors['white'], (0, 3))\n",
    "        self.board[7][3] = Queen(colors['black'], (7, 3))\n",
    "\n",
    "        # Place Kings\n",
    "        self.board[0][4] = King(colors['white'], (0, 4))\n",
    "        self.board[7][4] = King(colors['black'], (7, 4))\n",
    "\n",
    "    def show_board(self):\n",
    "        print(\"  \" + \" \".join(str(x) for x in range(8)))\n",
    "        for y, row in enumerate(self.board):\n",
    "            print(f\"{y} \" + \" \".join([reverse_figures[piece.figure] if piece else '.' for piece in row]))\n",
    "\n",
    "    def get_valid_moves(self, position):\n",
    "        piece = self.get_piece(position)\n",
    "        if piece:\n",
    "            return piece.valid_moves(self)\n",
    "        return []\n",
    "\n",
    "    def get_piece(self, position):\n",
    "        row, col = position\n",
    "        piece = self.board[row][col]\n",
    "        return piece\n",
    "\n",
    "    def check_for_enemy(self, position, color):\n",
    "        piece = self.get_piece(position)\n",
    "        if piece:\n",
    "            return piece.color != color\n",
    "        return False\n",
    "\n",
    "    def check_for_friendly(self, position, color):\n",
    "        piece = self.get_piece(position)\n",
    "        if piece:\n",
    "            return piece.color == color\n",
    "        return False"
   ],
   "id": "70ced0bc55847e9",
   "outputs": [],
   "execution_count": 732
  },
  {
   "metadata": {
    "ExecuteTime": {
     "end_time": "2025-02-11T11:20:51.632572Z",
     "start_time": "2025-02-11T11:20:51.629908Z"
    }
   },
   "cell_type": "code",
   "source": [
    "board = Board()\n",
    "board.populate_board()\n",
    "\n",
    "board.show_board()"
   ],
   "id": "e85900ce6f0aa514",
   "outputs": [
    {
     "name": "stdout",
     "output_type": "stream",
     "text": [
      "  0 1 2 3 4 5 6 7\n",
      "0 R K B Q K B K R\n",
      "1 P P P P P P P P\n",
      "2 . . . . . . . .\n",
      "3 . . . . . . . .\n",
      "4 . . . . . . . .\n",
      "5 . . . . . . . .\n",
      "6 P P P P P P P P\n",
      "7 R K B Q K B K R\n"
     ]
    }
   ],
   "execution_count": 733
  },
  {
   "metadata": {
    "ExecuteTime": {
     "end_time": "2025-02-11T11:20:51.661164Z",
     "start_time": "2025-02-11T11:20:51.658633Z"
    }
   },
   "cell_type": "code",
   "source": [
    "valid_moves = board.get_valid_moves([0, 6])\n",
    "print(valid_moves)"
   ],
   "id": "b62bcc5b87bc8eff",
   "outputs": [
    {
     "name": "stdout",
     "output_type": "stream",
     "text": [
      "[(2, 7), (2, 5)]\n"
     ]
    }
   ],
   "execution_count": 734
  },
  {
   "metadata": {
    "ExecuteTime": {
     "end_time": "2025-02-11T11:20:51.692727Z",
     "start_time": "2025-02-11T11:20:51.690203Z"
    }
   },
   "cell_type": "code",
   "source": [
    "board.board[1] = [None for _ in range(8)]\n",
    "board.show_board()"
   ],
   "id": "f3f06e2f4518a46c",
   "outputs": [
    {
     "name": "stdout",
     "output_type": "stream",
     "text": [
      "  0 1 2 3 4 5 6 7\n",
      "0 R K B Q K B K R\n",
      "1 . . . . . . . .\n",
      "2 . . . . . . . .\n",
      "3 . . . . . . . .\n",
      "4 . . . . . . . .\n",
      "5 . . . . . . . .\n",
      "6 P P P P P P P P\n",
      "7 R K B Q K B K R\n"
     ]
    }
   ],
   "execution_count": 735
  },
  {
   "metadata": {
    "ExecuteTime": {
     "end_time": "2025-02-11T11:20:51.722997Z",
     "start_time": "2025-02-11T11:20:51.720095Z"
    }
   },
   "cell_type": "code",
   "source": [
    "valid_moves = board.get_valid_moves([0, 0])\n",
    "print(valid_moves)"
   ],
   "id": "2aaf17cd9e540cda",
   "outputs": [
    {
     "name": "stdout",
     "output_type": "stream",
     "text": [
      "[(1, 0), (2, 0), (3, 0), (4, 0), (5, 0), (6, 0)]\n"
     ]
    }
   ],
   "execution_count": 736
  },
  {
   "metadata": {
    "ExecuteTime": {
     "end_time": "2025-02-11T11:20:51.755642Z",
     "start_time": "2025-02-11T11:20:51.752881Z"
    }
   },
   "cell_type": "code",
   "source": [
    "import pygame\n",
    "import sys"
   ],
   "id": "6c1d1d3a3c1e2940",
   "outputs": [],
   "execution_count": 737
  },
  {
   "metadata": {
    "ExecuteTime": {
     "end_time": "2025-02-11T11:21:58.726888Z",
     "start_time": "2025-02-11T11:20:51.764838Z"
    }
   },
   "cell_type": "code",
   "source": [
    "import pygame\n",
    "import sys\n",
    "\n",
    "# Initialize Pygame\n",
    "pygame.init()\n",
    "\n",
    "# Constants\n",
    "WIDTH, HEIGHT = 800, 800\n",
    "ROWS, COLS = 8, 8\n",
    "SQUARE_SIZE = WIDTH // COLS\n",
    "\n",
    "WHITE = (255, 255, 255)\n",
    "BLACK = (0, 0, 0)\n",
    "LIGHT_BROWN = (240, 217, 181)\n",
    "DARK_BROWN = (181, 136, 99)\n",
    "BLUE = (0, 0, 255)\n",
    "\n",
    "WIN = pygame.display.set_mode((WIDTH, HEIGHT))\n",
    "pygame.display.set_caption('Chess')\n",
    "\n",
    "def load_images():\n",
    "    pieces = {\n",
    "        'wp': 'white pawn',\n",
    "        'bp': 'black pawn',\n",
    "        'wr': 'white rook',\n",
    "        'br': 'black rook',\n",
    "        'wn': 'white knight',\n",
    "        'bn': 'black knight',\n",
    "        'wb': 'white bishop',\n",
    "        'bb': 'black bishop',\n",
    "        'wq': 'white queen',\n",
    "        'bq': 'black queen',\n",
    "        'wk': 'white king',\n",
    "        'bk': 'black king'\n",
    "    }\n",
    "    images = {}\n",
    "    for piece, name in pieces.items():\n",
    "        file_name = name.replace(' ', '_') + '.png'\n",
    "        try:\n",
    "            images[piece] = pygame.transform.scale(pygame.image.load(f'images/{file_name}'), (SQUARE_SIZE, SQUARE_SIZE))\n",
    "        except FileNotFoundError:\n",
    "            print(f\"File not found: images/{file_name}\")\n",
    "    return images\n",
    "\n",
    "IMAGES = load_images()\n",
    "\n",
    "def draw_board(win):\n",
    "    win.fill(WHITE)\n",
    "    for row in range(ROWS):\n",
    "        for col in range(COLS):\n",
    "            color = LIGHT_BROWN if (row + col) % 2 == 0 else DARK_BROWN\n",
    "            pygame.draw.rect(win, color, (col * SQUARE_SIZE, row * SQUARE_SIZE, SQUARE_SIZE, SQUARE_SIZE))\n",
    "\n",
    "def draw_pieces(win, board):\n",
    "    for row in range(ROWS):\n",
    "        for col in range(COLS):\n",
    "            piece = board[row][col]\n",
    "            if piece:\n",
    "                piece_key = f\"{'w' if piece.color == 0 else 'b'}{'n' if piece.__class__.__name__ == 'Knight' else piece.__class__.__name__[0].lower()}\"\n",
    "                win.blit(IMAGES[piece_key], (col * SQUARE_SIZE, row * SQUARE_SIZE))\n",
    "\n",
    "def highlight_moves(win, moves):\n",
    "    for move in moves:\n",
    "        row, col = move\n",
    "        pygame.draw.circle(win, BLUE, (col * SQUARE_SIZE + SQUARE_SIZE // 2, row * SQUARE_SIZE + SQUARE_SIZE // 2), SQUARE_SIZE // 4)\n",
    "\n",
    "def main():\n",
    "    board_instance = board\n",
    "\n",
    "    selected_piece = None\n",
    "    valid_moves = []\n",
    "\n",
    "    clock = pygame.time.Clock()\n",
    "    run = True\n",
    "    while run:\n",
    "        clock.tick(60)\n",
    "        for event in pygame.event.get():\n",
    "            if event.type == pygame.QUIT:\n",
    "                run = False\n",
    "            elif event.type == pygame.MOUSEBUTTONDOWN:\n",
    "                pos = pygame.mouse.get_pos()\n",
    "                col, row = pos[0] // SQUARE_SIZE, pos[1] // SQUARE_SIZE\n",
    "                selected_piece = board_instance.get_piece((row, col))\n",
    "                if selected_piece:\n",
    "                    valid_moves = board_instance.get_valid_moves((row, col))\n",
    "                else:\n",
    "                    valid_moves = []\n",
    "\n",
    "        draw_board(WIN)\n",
    "        draw_pieces(WIN, board_instance.board)\n",
    "        highlight_moves(WIN, valid_moves)\n",
    "        pygame.display.flip()\n",
    "\n",
    "    pygame.quit()\n",
    "    sys.exit()\n",
    "\n",
    "if __name__ == \"__main__\":\n",
    "    main()"
   ],
   "id": "1ae151b203fec496",
   "outputs": [
    {
     "ename": "SystemExit",
     "evalue": "",
     "output_type": "error",
     "traceback": [
      "An exception has occurred, use %tb to see the full traceback.\n",
      "\u001B[1;31mSystemExit\u001B[0m\n"
     ]
    }
   ],
   "execution_count": 738
  },
  {
   "metadata": {},
   "cell_type": "code",
   "outputs": [],
   "execution_count": null,
   "source": "",
   "id": "2c2e7b70919f8db"
  }
 ],
 "metadata": {
  "kernelspec": {
   "display_name": "Python 3",
   "language": "python",
   "name": "python3"
  },
  "language_info": {
   "codemirror_mode": {
    "name": "ipython",
    "version": 2
   },
   "file_extension": ".py",
   "mimetype": "text/x-python",
   "name": "python",
   "nbconvert_exporter": "python",
   "pygments_lexer": "ipython2",
   "version": "2.7.6"
  }
 },
 "nbformat": 4,
 "nbformat_minor": 5
}
