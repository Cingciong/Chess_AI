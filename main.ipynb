{
 "cells": [
  {
   "cell_type": "code",
   "id": "initial_id",
   "metadata": {
    "collapsed": true,
    "ExecuteTime": {
     "end_time": "2025-02-18T20:44:48.531345Z",
     "start_time": "2025-02-18T19:37:41.068590Z"
    }
   },
   "source": [
    "from game import ChessGame\n",
    "game = ChessGame()\n",
    "game.main()\n",
    "game."
   ],
   "outputs": [
    {
     "name": "stdout",
     "output_type": "stream",
     "text": [
      "pygame 2.6.1 (SDL 2.28.4, Python 3.12.4)\n",
      "Hello from the pygame community. https://www.pygame.org/contribute.html\n",
      "Turn: 1 white\n",
      "Is check (False, [])\n",
      "Turn: 2 black\n",
      "Is check (False, [])\n",
      "Turn: 3 white\n",
      "Is check (False, [])\n",
      "Turn: 4 black\n",
      "Is check (False, [])\n",
      "Turn: 5 white\n",
      "Is check (False, [])\n",
      "Turn: 6 black\n",
      "Is check (True, [<piece.Queen object at 0x000002900D77D730>])\n",
      "Turn: 7 white\n",
      "Is check (False, [])\n",
      "Turn: 8 black\n",
      "Is check (False, [])\n",
      "Turn: 9 white\n",
      "Is check (False, [])\n",
      "Turn: 10 black\n",
      "Is check (True, [<piece.Queen object at 0x000002900D77D730>])\n",
      "Checkmate! black is in checkmate!\n"
     ]
    },
    {
     "ename": "SystemExit",
     "evalue": "",
     "output_type": "error",
     "traceback": [
      "An exception has occurred, use %tb to see the full traceback.\n",
      "\u001B[1;31mSystemExit\u001B[0m\n"
     ]
    },
    {
     "name": "stderr",
     "output_type": "stream",
     "text": [
      "C:\\Users\\kulak\\miniconda3\\Lib\\site-packages\\IPython\\core\\interactiveshell.py:3587: UserWarning: To exit: use 'exit', 'quit', or Ctrl-D.\n",
      "  warn(\"To exit: use 'exit', 'quit', or Ctrl-D.\", stacklevel=1)\n"
     ]
    }
   ],
   "execution_count": 1
  },
  {
   "metadata": {},
   "cell_type": "code",
   "outputs": [],
   "execution_count": null,
   "source": "",
   "id": "d8596431a52b8aa5"
  }
 ],
 "metadata": {
  "kernelspec": {
   "display_name": "Python 3",
   "language": "python",
   "name": "python3"
  },
  "language_info": {
   "codemirror_mode": {
    "name": "ipython",
    "version": 2
   },
   "file_extension": ".py",
   "mimetype": "text/x-python",
   "name": "python",
   "nbconvert_exporter": "python",
   "pygments_lexer": "ipython2",
   "version": "2.7.6"
  }
 },
 "nbformat": 4,
 "nbformat_minor": 5
}
