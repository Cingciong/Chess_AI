{
 "cells": [
  {
   "metadata": {
    "ExecuteTime": {
     "end_time": "2025-02-18T18:54:09.747094Z",
     "start_time": "2025-02-18T18:54:09.743813Z"
    }
   },
   "cell_type": "code",
   "source": [
    "colors = {\n",
    "    'white': 0,\n",
    "    'black': 1,\n",
    "}\n",
    "figures = {\n",
    "    'Pawn': 1,\n",
    "    'Rook': 2,\n",
    "    'Knight': 3,\n",
    "    'Bishop': 4,\n",
    "    'Queen': 5,\n",
    "    'King': 6,\n",
    "}\n",
    "reverse_figures = {v: k[0] for k, v in figures.items()}\n",
    "\n"
   ],
   "id": "8667b84c98ba7768",
   "outputs": [],
   "execution_count": 186
  },
  {
   "metadata": {
    "ExecuteTime": {
     "end_time": "2025-02-18T18:54:09.787796Z",
     "start_time": "2025-02-18T18:54:09.784453Z"
    }
   },
   "cell_type": "code",
   "source": [
    "import copy\n",
    "import numpy as np"
   ],
   "id": "491bdcd2efddc5e1",
   "outputs": [],
   "execution_count": 187
  },
  {
   "metadata": {
    "ExecuteTime": {
     "end_time": "2025-02-18T18:54:09.948442Z",
     "start_time": "2025-02-18T18:54:09.944885Z"
    }
   },
   "cell_type": "code",
   "source": [
    "class Piece:\n",
    "    def __init__(self, color, position):\n",
    "        self.color = color\n",
    "        self.position = position\n",
    "        self.eliminated = False\n",
    "        self.destructable = True\n",
    "\n",
    "\n",
    "    def eliminate(self):\n",
    "        self.eliminated = True\n",
    "\n",
    "    def valid_moves(self, board_instance):\n",
    "        return []\n"
   ],
   "id": "2c51fc8d9ca51b4",
   "outputs": [],
   "execution_count": 188
  },
  {
   "metadata": {
    "ExecuteTime": {
     "end_time": "2025-02-18T18:54:09.975226Z",
     "start_time": "2025-02-18T18:54:09.969194Z"
    }
   },
   "cell_type": "code",
   "source": [
    "class Pawn(Piece):\n",
    "    def __init__(self, color, position):\n",
    "        super().__init__(color, position)\n",
    "        self.first_move = True\n",
    "        self.figure = figures['Pawn']\n",
    "\n",
    "    def valid_moves(self, board_instance):\n",
    "        moves = []\n",
    "        row, col = self.position\n",
    "\n",
    "        if self.color == colors['white']:\n",
    "            if row == 1 and board_instance.check_for_empty((row + 2, col)) and board_instance.check_for_empty((row + 1, col)):\n",
    "                moves.append((row + 2, col))\n",
    "            if row + 1 < 8 and board_instance.check_for_empty((row + 1, col)):\n",
    "                moves.append((row + 1, col))\n",
    "            dc = [[1, 1], [1, -1]]\n",
    "            for i in range(2):\n",
    "                new_row, new_col = row + dc[i][0], col + dc[i][1]\n",
    "                if 0 <= new_row < 8 and 0 <= new_col < 8 and board_instance.check_for_enemy((new_row, new_col), self.color):\n",
    "                    moves.append((new_row, new_col))\n",
    "\n",
    "        if self.color == colors['black']:\n",
    "            if row == 6 and board_instance.check_for_empty((row - 2, col)) and board_instance.check_for_empty((row - 1, col)):\n",
    "                moves.append((row - 2, col))\n",
    "            if row - 1 >= 0 and board_instance.check_for_empty((row - 1, col)):\n",
    "                moves.append((row - 1, col))\n",
    "            dc = [[-1, 1], [-1, -1]]\n",
    "            for i in range(2):\n",
    "                new_row, new_col = row + dc[i][0], col + dc[i][1]\n",
    "                if 0 <= new_row < 8 and 0 <= new_col < 8 and board_instance.check_for_enemy((new_row, new_col), self.color):\n",
    "                    moves.append((new_row, new_col))\n",
    "\n",
    "        return moves"
   ],
   "id": "8e3032234fc2abf5",
   "outputs": [],
   "execution_count": 189
  },
  {
   "metadata": {
    "ExecuteTime": {
     "end_time": "2025-02-18T18:54:10.007122Z",
     "start_time": "2025-02-18T18:54:10.003583Z"
    }
   },
   "cell_type": "code",
   "source": [
    "class Rook(Piece):\n",
    "    def __init__(self, color, position):\n",
    "        super().__init__(color, position)\n",
    "        self.first_move = True\n",
    "        self.figure = figures['Rook']\n",
    "\n",
    "    def valid_moves(self, board_instance):\n",
    "        moves = []\n",
    "        row, col = self.position\n",
    "\n",
    "        directions = [[1, 0], [-1, 0], [0, 1], [0, -1]]\n",
    "\n",
    "        for dr,dc in directions:\n",
    "            r,c = row +dr , col + dc\n",
    "            while 0 <= r < 8 and 0 <= c < 8:\n",
    "\n",
    "                if board_instance.check_for_friendly((r,c), self.color):\n",
    "                    break\n",
    "                moves.append((r,c))\n",
    "                if board_instance.check_for_enemy((r,c), self.color):\n",
    "                    break\n",
    "                r += dr\n",
    "                c += dc\n",
    "\n",
    "        return moves\n"
   ],
   "id": "7b805473710c7473",
   "outputs": [],
   "execution_count": 190
  },
  {
   "metadata": {
    "ExecuteTime": {
     "end_time": "2025-02-18T18:54:10.106140Z",
     "start_time": "2025-02-18T18:54:10.101099Z"
    }
   },
   "cell_type": "code",
   "source": [
    "class Knight(Piece):\n",
    "    def __init__(self, color, position):\n",
    "        super().__init__(color, position)\n",
    "        self.figure = figures['Knight']\n",
    "\n",
    "    def valid_moves(self, board_instance):\n",
    "        moves = []\n",
    "        row, col = self.position\n",
    "\n",
    "        dc = [[1, 2], [1, -2], [-1, 2], [-1, -2], [2, 1], [2, -1], [-2, 1], [-2, -1]]\n",
    "\n",
    "        for i in range(8):\n",
    "            new_row, new_col = row + dc[i][0], col + dc[i][1]\n",
    "            if 0 <= new_row < 8 and 0 <= new_col < 8 and not board_instance.check_for_friendly((new_row, new_col), self.color):\n",
    "                moves.append((new_row, new_col))\n",
    "\n",
    "        return moves"
   ],
   "id": "5111314642786202",
   "outputs": [],
   "execution_count": 191
  },
  {
   "metadata": {
    "ExecuteTime": {
     "end_time": "2025-02-18T18:54:10.122624Z",
     "start_time": "2025-02-18T18:54:10.117899Z"
    }
   },
   "cell_type": "code",
   "source": [
    "class Bishop(Piece):\n",
    "    def __init__(self, color, position):\n",
    "        super().__init__(color, position)\n",
    "        self.figure = figures['Bishop']\n",
    "\n",
    "    def valid_moves(self, board_instance):\n",
    "        moves = []\n",
    "        row, col = self.position\n",
    "\n",
    "        directions = [[1, 1], [1, -1], [-1, 1], [-1, -1]]\n",
    "\n",
    "        for dr, dc in directions:\n",
    "            r, c = row + dr, col + dc\n",
    "            while 0 <= r < 8 and 0 <= c < 8:\n",
    "                if board_instance.check_for_friendly((r, c), self.color):\n",
    "                    break\n",
    "                moves.append((r, c))\n",
    "                if board_instance.check_for_enemy((r, c), self.color):\n",
    "                    break\n",
    "                r += dr\n",
    "                c += dc\n",
    "\n",
    "        return moves"
   ],
   "id": "f221e4e0798ae22c",
   "outputs": [],
   "execution_count": 192
  },
  {
   "metadata": {
    "ExecuteTime": {
     "end_time": "2025-02-18T18:54:10.143598Z",
     "start_time": "2025-02-18T18:54:10.138212Z"
    }
   },
   "cell_type": "code",
   "source": [
    "class Queen(Piece):\n",
    "    def __init__(self, color, position):\n",
    "        super().__init__(color, position)\n",
    "        self.figure = figures['Queen']\n",
    "\n",
    "    def valid_moves(self, board_instance):\n",
    "        moves = []\n",
    "        row, col = self.position\n",
    "\n",
    "        directions = [[1, 0], [-1, 0], [0, 1], [0, -1], [1, 1], [1, -1], [-1, 1], [-1, -1]]\n",
    "\n",
    "        for dr, dc in directions:\n",
    "            r, c = row + dr, col + dc\n",
    "            while 0 <= r < 8 and 0 <= c < 8:\n",
    "                if board_instance.check_for_friendly((r, c), self.color):\n",
    "                    break\n",
    "                moves.append((r, c))\n",
    "                if board_instance.check_for_enemy((r, c), self.color):\n",
    "                    break\n",
    "                r += dr\n",
    "                c += dc\n",
    "\n",
    "        return moves\n",
    "\n"
   ],
   "id": "8c9ee5fcf707c371",
   "outputs": [],
   "execution_count": 193
  },
  {
   "metadata": {
    "ExecuteTime": {
     "end_time": "2025-02-18T18:54:10.159159Z",
     "start_time": "2025-02-18T18:54:10.152604Z"
    }
   },
   "cell_type": "code",
   "source": [
    "class King(Piece):\n",
    "    def __init__(self, color, position):\n",
    "        super().__init__(color, position)\n",
    "        self.figure = figures['King']\n",
    "        self.destructable = False\n",
    "\n",
    "    def valid_moves(self, board_instance):\n",
    "        moves = []\n",
    "        row, col = self.position\n",
    "\n",
    "        dc = [[1, 0], [-1, 0], [0, 1], [0, -1], [1, 1], [1, -1], [-1, 1], [-1, -1]]\n",
    "\n",
    "        for i in range(8):\n",
    "            new_row, new_col = row + dc[i][0], col + dc[i][1]\n",
    "            if 0 <= new_row < 8 and 0 <= new_col < 8 and not board_instance.check_for_friendly((new_row, new_col), self.color):\n",
    "                moves.append((new_row, new_col))\n",
    "\n",
    "        # restricted moves\n",
    "        enemy_moves = board_instance.enemy_moves(self.color)\n",
    "        king_position = board_instance.get_enemy_king_position(self.color)\n",
    "        if king_position:\n",
    "            restricted_positions = []\n",
    "            king_dc = [[1, 0], [-1, 0], [0, 1], [0, -1], [1, 1], [1, -1], [-1, 1], [-1, -1]]\n",
    "            king_row, king_col = king_position\n",
    "            for dr, dc in king_dc:\n",
    "                new_row, new_col = king_row + dr, king_col + dc\n",
    "                if 0 <= new_row < 8 and 0 <= new_col < 8:\n",
    "                    restricted_positions.append((new_row, new_col))\n",
    "\n",
    "            moves = [move for move in moves if move not in restricted_positions]\n",
    "        moves = [move for move in moves if move not in enemy_moves]\n",
    "\n",
    "        valid_moves = []\n",
    "        for move in moves:\n",
    "            future_board = copy.deepcopy(board_instance)\n",
    "            future_board.board[move[0]][move[1]] = self\n",
    "            future_board.board[row][col] = None\n",
    "            future_enemy_moves = future_board.future_enemy_moves(self.color)\n",
    "            if move not in future_enemy_moves:\n",
    "                valid_moves.append(move)\n",
    "\n",
    "        return valid_moves\n"
   ],
   "id": "f2200d56291c041f",
   "outputs": [],
   "execution_count": 194
  },
  {
   "metadata": {
    "ExecuteTime": {
     "end_time": "2025-02-18T18:54:10.186131Z",
     "start_time": "2025-02-18T18:54:10.167308Z"
    }
   },
   "cell_type": "code",
   "source": [
    "class Board:\n",
    "    def __init__(self):\n",
    "        self.board = self.create_board()\n",
    "        self.populate_board()\n",
    "        self.captured_pieces = []\n",
    "        self.tmp_board = np.copy(self.board)\n",
    "\n",
    "    def create_board(self):\n",
    "        return np.array([[None for _ in range(8)] for _ in range(8)])\n",
    "\n",
    "    def populate_board(self):\n",
    "        self.place_pieces(Pawn, 1, colors['white'])\n",
    "        self.place_pieces(Pawn, 6, colors['black'])\n",
    "        self.place_pieces(Rook, 0, colors['white'], [0, 7])\n",
    "        self.place_pieces(Rook, 7, colors['black'], [0, 7])\n",
    "        self.place_pieces(Knight, 0, colors['white'], [1, 6])\n",
    "        self.place_pieces(Knight, 7, colors['black'], [1, 6])\n",
    "        self.place_pieces(Bishop, 0, colors['white'], [2, 5])\n",
    "        self.place_pieces(Bishop, 7, colors['black'], [2, 5])\n",
    "        self.place_pieces(Queen, 0, colors['white'], [3])\n",
    "        self.place_pieces(Queen, 7, colors['black'], [3])\n",
    "        self.place_pieces(King, 0, colors['white'], [4])\n",
    "        self.place_pieces(King, 7, colors['black'], [4])\n",
    "\n",
    "    def is_changed(self):\n",
    "        if not np.array_equal(self.board, self.tmp_board):\n",
    "            self.tmp_board = np.copy(self.board)\n",
    "            return True\n",
    "        return False\n",
    "\n",
    "    def place_pieces(self, piece_class, row, color, cols=None):\n",
    "        if cols is None:\n",
    "            for col in range(8):\n",
    "                self.board[row][col] = piece_class(color, (row, col))\n",
    "        else:\n",
    "            for col in cols:\n",
    "                self.board[row][col] = piece_class(color, (row, col))\n",
    "\n",
    "    def move_piece(self, start_pos, end_pos):\n",
    "        piece = self.get_piece(start_pos)\n",
    "        if not piece:\n",
    "            return False\n",
    "        if end_pos not in piece.valid_moves(self):\n",
    "            return False\n",
    "        target_piece = self.get_piece(end_pos)\n",
    "        if target_piece:\n",
    "            if isinstance(target_piece, King):\n",
    "                return False\n",
    "            if target_piece.color != piece.color:\n",
    "                target_piece.eliminate()\n",
    "                self.captured_pieces.append(target_piece)\n",
    "\n",
    "        self.board[start_pos[0]][start_pos[1]] = None\n",
    "        piece.position = end_pos\n",
    "        self.board[end_pos[0]][end_pos[1]] = piece\n",
    "        return True\n",
    "\n",
    "    def show_board(self):\n",
    "        print(\"  \" + \" \".join(str(x) for x in range(8)))\n",
    "        for y, row in enumerate(self.board):\n",
    "            print(f\"{y} \" + \" \".join([reverse_figures[piece.figure] if piece else '.' for piece in row]))\n",
    "\n",
    "    def get_piece(self, position):\n",
    "        row, col = position\n",
    "        return self.board[row][col]\n",
    "\n",
    "    def check_for_enemy(self, position, color):\n",
    "        piece = self.get_piece(position)\n",
    "        return piece and piece.color != color\n",
    "\n",
    "    def check_for_friendly(self, position, color):\n",
    "        piece = self.get_piece(position)\n",
    "        return piece and piece.color == color\n",
    "\n",
    "    def check_for_empty(self, position):\n",
    "        return not self.get_piece(position)\n",
    "\n",
    "    def get_moves(self, color):\n",
    "        color_value = colors[color]  # Convert color to its corresponding integer value\n",
    "        moves = []\n",
    "        for row in range(8):\n",
    "            for col in range(8):\n",
    "                piece = self.get_piece((row, col))\n",
    "                if piece and piece.color == color_value:\n",
    "                    piece_moves = piece.valid_moves(self)\n",
    "                    for move in piece_moves:\n",
    "                        moves.append([(row, col), move])\n",
    "        return moves\n",
    "\n",
    "    def enemy_moves(self, color):\n",
    "        moves = []\n",
    "        for row in range(8):\n",
    "            for col in range(8):\n",
    "                piece = self.get_piece((row, col))\n",
    "                if piece and piece.color != color and not isinstance(piece, King):\n",
    "                    piece_moves = piece.valid_moves(self)\n",
    "                    if isinstance(piece, Pawn):\n",
    "                        piece_moves = self.filter_pawn_moves(piece, piece_moves, row, col)\n",
    "                    for move in piece_moves:\n",
    "                        moves.append([(row, col), move])\n",
    "        return moves\n",
    "\n",
    "    def filter_pawn_moves(self, piece, piece_moves, row, col):\n",
    "        if piece.color == colors['white']:\n",
    "            return [move for move in piece_moves if not (move[0] == row + 1 and move[1] == col) and not (move[0] == row + 2 and move[1] == col)]\n",
    "        elif piece.color == colors['black']:\n",
    "            return [move for move in piece_moves if not (move[0] == row - 1 and move[1] == col) and not (move[0] == row - 2 and move[1] == col)]\n",
    "        return piece_moves\n",
    "\n",
    "    def future_enemy_moves(self, color):\n",
    "        return self.enemy_moves(color)\n",
    "\n",
    "    def get_enemy_king_position(self, color):\n",
    "        for row in range(8):\n",
    "            for col in range(8):\n",
    "                piece = self.get_piece((row, col))\n",
    "                if piece and isinstance(piece, King) and piece.color != color:\n",
    "                    return (row, col)\n",
    "        return None\n",
    "\n",
    "    def enemy_king_moves(self, color):\n",
    "        enemy_king_position = self.get_enemy_king_position(color)\n",
    "        if enemy_king_position:\n",
    "            enemy_king = self.get_piece(enemy_king_position)\n",
    "            if isinstance(enemy_king, King):\n",
    "                return enemy_king.valid_moves(self)\n",
    "        return []\n",
    "\n",
    "    def get_king_position(self, color):\n",
    "        color_value = colors[color]  # Convert color to its corresponding integer value\n",
    "        for row in range(8):\n",
    "            for col in range(8):\n",
    "                piece = self.get_piece((row, col))\n",
    "                if piece and isinstance(piece, King) and piece.color == color_value:\n",
    "                    return (row, col)\n",
    "        return None\n",
    "\n",
    "    def is_check(self, color):\n",
    "        king_position = self.get_king_position(color)\n",
    "        checking_pieces = []\n",
    "        enemy_moves = self.get_moves('white' if color == 'black' else 'black')\n",
    "        for move in enemy_moves:\n",
    "            if move[1] == king_position:\n",
    "                checking_pieces.append(self.get_piece(move[0]))\n",
    "\n",
    "        return bool(checking_pieces), checking_pieces\n",
    "\n",
    "    def check_for_check_mate(self, color, valid_moves):\n",
    "        in_check, checking_pieces = self.is_check(color)\n",
    "        if in_check and len(valid_moves) == 0:\n",
    "            return True\n",
    "        return False\n",
    "\n",
    "    def check_for_pat(self, color, valid_moves):\n",
    "        in_check, _ = self.is_check(color)\n",
    "        if not in_check and len(valid_moves) == 0:\n",
    "            return True\n",
    "        return False\n",
    "\n",
    "    def translate_to_matrix(self):\n",
    "\n",
    "        pawn_matrix = np.zeros((8, 8), dtype=int)\n",
    "        rook_matrix = np.zeros((8, 8), dtype=int)\n",
    "        knight_matrix = np.zeros((8, 8), dtype=int)\n",
    "        bishop_matrix = np.zeros((8, 8), dtype=int)\n",
    "        queen_matrix = np.zeros((8, 8), dtype=int)\n",
    "        king_matrix = np.zeros((8, 8), dtype=int)\n",
    "\n",
    "        for row in range(8):\n",
    "            for col in range(8):\n",
    "                piece = self.get_piece((row, col))\n",
    "                if piece:\n",
    "                    value = 1 if piece.color == colors['white'] else -1\n",
    "                    if isinstance(piece, Pawn):\n",
    "                        pawn_matrix[row, col] = value\n",
    "                    elif isinstance(piece, Rook):\n",
    "                        rook_matrix[row, col] = value\n",
    "                    elif isinstance(piece, Knight):\n",
    "                        knight_matrix[row, col] = value\n",
    "                    elif isinstance(piece, Bishop):\n",
    "                        bishop_matrix[row, col] = value\n",
    "                    elif isinstance(piece, Queen):\n",
    "                        queen_matrix[row, col] = value\n",
    "                    elif isinstance(piece, King):\n",
    "                        king_matrix[row, col] = value\n",
    "\n",
    "        board_matrix = np.array([pawn_matrix, rook_matrix, knight_matrix, bishop_matrix, queen_matrix, king_matrix])\n",
    "\n",
    "        return board_matrix\n",
    "\n",
    "\n",
    "\n",
    "\n"
   ],
   "id": "70ced0bc55847e9",
   "outputs": [],
   "execution_count": 195
  },
  {
   "metadata": {
    "ExecuteTime": {
     "end_time": "2025-02-18T18:54:10.197284Z",
     "start_time": "2025-02-18T18:54:10.194137Z"
    }
   },
   "cell_type": "code",
   "source": [
    "board = Board()\n",
    "board.populate_board()"
   ],
   "id": "e85900ce6f0aa514",
   "outputs": [],
   "execution_count": 196
  },
  {
   "metadata": {
    "ExecuteTime": {
     "end_time": "2025-02-18T18:54:10.210802Z",
     "start_time": "2025-02-18T18:54:10.207073Z"
    }
   },
   "cell_type": "code",
   "source": [
    "board_matrix = board.translate_to_matrix()\n",
    "print(board_matrix.shape)"
   ],
   "id": "ed570cdc93c26256",
   "outputs": [
    {
     "name": "stdout",
     "output_type": "stream",
     "text": [
      "(6, 8, 8)\n"
     ]
    }
   ],
   "execution_count": 197
  },
  {
   "metadata": {
    "ExecuteTime": {
     "end_time": "2025-02-18T18:54:10.954926Z",
     "start_time": "2025-02-18T18:54:10.316851Z"
    }
   },
   "cell_type": "code",
   "source": [
    "import matplotlib.pyplot as plt\n",
    "\n",
    "# Assuming board_matrix is already defined\n",
    "num_matrices = board_matrix.shape[0]\n",
    "\n",
    "for i in range(num_matrices):\n",
    "    matrix = board_matrix[i]\n",
    "    plt.figure()\n",
    "    plt.imshow(matrix, cmap='gray', interpolation='nearest')\n",
    "    plt.colorbar()\n",
    "    plt.title(f'Matrix {i}')\n",
    "    plt.show()"
   ],
   "id": "ecf5202f7ba9ede3",
   "outputs": [
    {
     "data": {
      "text/plain": [
       "<Figure size 640x480 with 2 Axes>"
      ],
      "image/png": "[encoded data removed]"
     },
     "metadata": {},
     "output_type": "display_data"
    },
    {
     "data": {
      "text/plain": [
       "<Figure size 640x480 with 2 Axes>"
      ],
      "image/png": "[encoded data removed]"
     },
     "metadata": {},
     "output_type": "display_data"
    },
    {
     "data": {
      "text/plain": [
       "<Figure size 640x480 with 2 Axes>"
      ],
      "image/png": "[encoded data removed]"
     },
     "metadata": {},
     "output_type": "display_data"
    },
    {
     "data": {
      "text/plain": [
       "<Figure size 640x480 with 2 Axes>"
      ],
      "image/png": "[encoded data removed]"
     },
     "metadata": {},
     "output_type": "display_data"
    },
    {
     "data": {
      "text/plain": [
       "<Figure size 640x480 with 2 Axes>"
      ],
      "image/png": "[encoded data removed]"
     },
     "metadata": {},
     "output_type": "display_data"
    },
    {
     "data": {
      "text/plain": [
       "<Figure size 640x480 with 2 Axes>"
      ],
      "image/png": "[encoded data removed]"
     },
     "metadata": {},
     "output_type": "display_data"
    }
   ],
   "execution_count": 198
  },
  {
   "metadata": {},
   "cell_type": "code",
   "outputs": [],
   "execution_count": null,
   "source": "",
   "id": "e82056726290e31b"
  },
  {
   "metadata": {
    "ExecuteTime": {
     "end_time": "2025-02-18T18:54:11.146439Z",
     "start_time": "2025-02-18T18:54:10.962821Z"
    }
   },
   "cell_type": "code",
   "source": [
    "import pygame\n",
    "\n",
    "# Constants\n",
    "WIDTH, HEIGHT = 800, 800\n",
    "ROWS, COLS = 8, 8\n",
    "SQUARE_SIZE = WIDTH // COLS\n",
    "\n",
    "WHITE = (255, 255, 255)\n",
    "BLACK = (0, 0, 0)\n",
    "LIGHT_BROWN = (240, 217, 181)\n",
    "DARK_BROWN = (181, 136, 99)\n",
    "BLUE = (0, 0, 255)\n",
    "RED = (255, 0, 0)\n",
    "\n",
    "WIN = pygame.display.set_mode((WIDTH, HEIGHT))\n",
    "pygame.display.set_caption('Chess')\n",
    "\n",
    "colors = {\n",
    "    'white': 0,\n",
    "    'black': 1,\n",
    "}\n",
    "figures = {\n",
    "    'Pawn': 1,\n",
    "    'Rook': 2,\n",
    "    'Knight': 3,\n",
    "    'Bishop': 4,\n",
    "    'Queen': 5,\n",
    "    'King': 6,\n",
    "}\n",
    "reverse_figures = {v: k[0] for k, v in figures.items()}\n",
    "\n",
    "def load_images():\n",
    "    pieces = {\n",
    "        'wp': 'white pawn',\n",
    "        'bp': 'black pawn',\n",
    "        'wr': 'white rook',\n",
    "        'br': 'black rook',\n",
    "        'wn': 'white knight',\n",
    "        'bn': 'black knight',\n",
    "        'wb': 'white bishop',\n",
    "        'bb': 'black bishop',\n",
    "        'wq': 'white queen',\n",
    "        'bq': 'black queen',\n",
    "        'wk': 'white king',\n",
    "        'bk': 'black king'\n",
    "    }\n",
    "    images = {}\n",
    "    for piece, name in pieces.items():\n",
    "        file_name = name.replace(' ', '_') + '.png'\n",
    "        try:\n",
    "            images[piece] = pygame.transform.scale(pygame.image.load(f'images/{file_name}'), (SQUARE_SIZE, SQUARE_SIZE))\n",
    "        except FileNotFoundError:\n",
    "            print(f\"File not found: images/{file_name}\")\n",
    "    return images\n",
    "\n",
    "def draw_board(win):\n",
    "    win.fill(WHITE)\n",
    "    for row in range(ROWS):\n",
    "        for col in range(COLS):\n",
    "            color = LIGHT_BROWN if (row + col) % 2 == 0 else DARK_BROWN\n",
    "            pygame.draw.rect(win, color, (col * SQUARE_SIZE, row * SQUARE_SIZE, SQUARE_SIZE, SQUARE_SIZE))\n",
    "\n",
    "def draw_pieces(win, board):\n",
    "    for row in range(ROWS):\n",
    "        for col in range(COLS):\n",
    "            piece = board[row][col]\n",
    "            if piece:\n",
    "                piece_key = f\"{'w' if piece.color == 0 else 'b'}{'n' if piece.__class__.__name__ == 'Knight' else piece.__class__.__name__[0].lower()}\"\n",
    "                win.blit(IMAGES[piece_key], (col * SQUARE_SIZE, row * SQUARE_SIZE))\n",
    "\n",
    "def highlight_moves(win, piece_position, valid_moves):\n",
    "    for move in valid_moves:\n",
    "        if tuple(move[0]) == piece_position:\n",
    "            row, col = move[1]\n",
    "            pygame.draw.circle(win, BLUE, (col * SQUARE_SIZE + SQUARE_SIZE // 2, row * SQUARE_SIZE + SQUARE_SIZE // 2), SQUARE_SIZE // 4)\n",
    "\n",
    "def handle_mouse_button_up(board_instance, selected_piece, dragging, SQUARE_SIZE, valid_moves):\n",
    "    if dragging and selected_piece:\n",
    "        pos = pygame.mouse.get_pos()\n",
    "        col, row = pos[0] // SQUARE_SIZE, pos[1] // SQUARE_SIZE\n",
    "        end_pos = [row, col]\n",
    "        start_pos = list(selected_piece.position)\n",
    "        if [start_pos, end_pos] in valid_moves:\n",
    "            board_instance.move_piece(tuple(start_pos), tuple(end_pos))\n",
    "            selected_piece.position = tuple(end_pos)\n",
    "    return None, False\n",
    "\n",
    "def handle_mouse_button_down(board_instance, SQUARE_SIZE, current_turn_color):\n",
    "    pos = pygame.mouse.get_pos()\n",
    "    col, row = pos[0] // SQUARE_SIZE, pos[1] // SQUARE_SIZE\n",
    "    piece = board_instance.get_piece((row, col))\n",
    "    if piece and piece.color == colors[current_turn_color]:\n",
    "        selected_piece = piece\n",
    "        dragging = True\n",
    "        drag_offset_x = pos[0] - col * SQUARE_SIZE\n",
    "        drag_offset_y = pos[1] - row * SQUARE_SIZE\n",
    "        return selected_piece, dragging, drag_offset_x, drag_offset_y\n",
    "    return None, False, 0, 0\n",
    "\n",
    "def handle_mouse_motion(dragging, SQUARE_SIZE):\n",
    "    col, row = -1, -1  # Initialize with default values\n",
    "    if dragging:\n",
    "        pos = pygame.mouse.get_pos()\n",
    "        col, row = pos[0] // SQUARE_SIZE, pos[1] // SQUARE_SIZE\n",
    "    return col, row\n",
    "\n",
    "IMAGES = load_images()"
   ],
   "id": "1ae151b203fec496",
   "outputs": [],
   "execution_count": 199
  },
  {
   "metadata": {
    "ExecuteTime": {
     "end_time": "2025-02-18T18:54:17.587581Z",
     "start_time": "2025-02-18T18:54:11.169881Z"
    }
   },
   "cell_type": "code",
   "source": [
    "import pygame\n",
    "import sys\n",
    "import copy\n",
    "\n",
    "\n",
    "\n",
    "def main():\n",
    "    turn_iteration = 1\n",
    "    board_instance = board\n",
    "    selected_piece = None\n",
    "    valid_moves = []\n",
    "    dragging = False\n",
    "    drag_offset_x = 0\n",
    "    drag_offset_y = 0\n",
    "    turn = 1\n",
    "    colors_turn = ['white', 'black']\n",
    "\n",
    "    run = True\n",
    "    while run:\n",
    "        event = pygame.event.wait()\n",
    "\n",
    "        if event.type == pygame.QUIT:\n",
    "            run = False\n",
    "\n",
    "        elif event.type == pygame.MOUSEBUTTONDOWN:\n",
    "            if event.button == 1:\n",
    "                selected_piece, dragging, drag_offset_x, drag_offset_y = handle_mouse_button_down(board_instance, SQUARE_SIZE, colors_turn[turn])\n",
    "        elif event.type == pygame.MOUSEBUTTONUP:\n",
    "            if event.button == 1:\n",
    "                selected_piece, dragging = handle_mouse_button_up(board_instance, selected_piece, dragging, SQUARE_SIZE, valid_moves)\n",
    "                dragging = False\n",
    "                selected_piece = None\n",
    "\n",
    "        elif event.type == pygame.MOUSEMOTION:\n",
    "            col, row = handle_mouse_motion(dragging, SQUARE_SIZE)\n",
    "\n",
    "        if board_instance.is_changed():\n",
    "\n",
    "\n",
    "            turn = 1 if turn == 0 else 0\n",
    "            print(\"Turn:\",turn_iteration, colors_turn[turn])\n",
    "            turn_iteration += 1\n",
    "            moves = board_instance.get_moves(colors_turn[turn])\n",
    "            moves_free_check = []\n",
    "            for move in moves:\n",
    "                future_board = copy.deepcopy(board_instance)\n",
    "                start_pos = tuple(move[0])\n",
    "                end_pos = tuple(move[1])\n",
    "                future_board.move_piece(start_pos, end_pos)\n",
    "                if not future_board.is_check(colors_turn[turn])[0]:\n",
    "                    moves_free_check.append([list(move[0]), list(move[1])])  # Convert to lists\n",
    "            valid_moves = moves_free_check\n",
    "\n",
    "\n",
    "            print(\"Is check\", board_instance.is_check(colors_turn[turn]))\n",
    "            if board_instance.check_for_check_mate(colors_turn[turn], valid_moves):\n",
    "                print(f\"Checkmate! {colors_turn[turn]} is in checkmate!\")\n",
    "            elif board_instance.check_for_pat(colors_turn[turn], valid_moves):\n",
    "                print(f\"Pat! {colors_turn[turn]} is in pat!\")\n",
    "\n",
    "        draw_board(WIN)\n",
    "        draw_pieces(WIN, board_instance.board)\n",
    "        if selected_piece:\n",
    "            highlight_moves(WIN, selected_piece.position, valid_moves)\n",
    "\n",
    "        if dragging and selected_piece:\n",
    "            pos = pygame.mouse.get_pos()\n",
    "            WIN.blit(IMAGES[f\"{'w' if selected_piece.color == 0 else 'b'}{'n' if selected_piece.__class__.__name__ == 'Knight' else selected_piece.__class__.__name__[0].lower()}\"], (pos[0] - drag_offset_x, pos[1] - drag_offset_y))\n",
    "\n",
    "        pygame.display.flip()\n",
    "\n",
    "    pygame.quit()\n",
    "    sys.exit()\n",
    "\n",
    "if __name__ == \"__main__\":\n",
    "    main()"
   ],
   "id": "2c2e7b70919f8db",
   "outputs": [
    {
     "name": "stdout",
     "output_type": "stream",
     "text": [
      "Turn: 1 white\n",
      "Is check (False, [])\n"
     ]
    },
    {
     "ename": "SystemExit",
     "evalue": "",
     "output_type": "error",
     "traceback": [
      "An exception has occurred, use %tb to see the full traceback.\n",
      "\u001B[1;31mSystemExit\u001B[0m\n"
     ]
    },
    {
     "name": "stderr",
     "output_type": "stream",
     "text": [
      "C:\\Users\\kulak\\miniconda3\\Lib\\site-packages\\IPython\\core\\interactiveshell.py:3587: UserWarning: To exit: use 'exit', 'quit', or Ctrl-D.\n",
      "  warn(\"To exit: use 'exit', 'quit', or Ctrl-D.\", stacklevel=1)\n"
     ]
    }
   ],
   "execution_count": 200
  },
  {
   "metadata": {},
   "cell_type": "code",
   "outputs": [],
   "execution_count": null,
   "source": "",
   "id": "8bf96fac4e82271"
  }
 ],
 "metadata": {
  "kernelspec": {
   "display_name": "Python 3",
   "language": "python",
   "name": "python3"
  },
  "language_info": {
   "codemirror_mode": {
    "name": "ipython",
    "version": 2
   },
   "file_extension": ".py",
   "mimetype": "text/x-python",
   "name": "python",
   "nbconvert_exporter": "python",
   "pygments_lexer": "ipython2",
   "version": "2.7.6"
  }
 },
 "nbformat": 4,
 "nbformat_minor": 5
}
